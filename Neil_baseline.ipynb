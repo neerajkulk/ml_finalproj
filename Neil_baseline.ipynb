{
 "cells": [
  {
   "cell_type": "code",
   "execution_count": 1,
   "metadata": {},
   "outputs": [],
   "source": [
    "import numpy as np\n",
    "import pandas as pd\n",
    "import matplotlib.pyplot as plt"
   ]
  },
  {
   "cell_type": "markdown",
   "metadata": {},
   "source": [
    "First, we read in the data."
   ]
  },
  {
   "cell_type": "code",
   "execution_count": 2,
   "metadata": {},
   "outputs": [],
   "source": [
    "training_df = pd.read_csv('data/training_set.csv')\n",
    "training_metadata_df = pd.read_csv('data/training_set_metadata.csv')"
   ]
  },
  {
   "cell_type": "code",
   "execution_count": 3,
   "metadata": {},
   "outputs": [],
   "source": [
    "obj_ids = np.unique(training_df.object_id)"
   ]
  },
  {
   "cell_type": "code",
   "execution_count": 140,
   "metadata": {},
   "outputs": [
    {
     "name": "stderr",
     "output_type": "stream",
     "text": [
      "/Users/neilbassett/anaconda3/lib/python3.6/site-packages/ipykernel_launcher.py:4: UserWarning: Boolean Series key will be reindexed to match DataFrame index.\n",
      "  after removing the cwd from sys.path.\n"
     ]
    },
    {
     "data": {
      "image/png": "[encoded data removed]",
      "text/plain": [
       "<Figure size 432x288 with 1 Axes>"
      ]
     },
     "metadata": {},
     "output_type": "display_data"
    }
   ],
   "source": [
    "obj_id = np.random.choice(obj_ids)\n",
    "obj = training_df[training_df.object_id == obj_id]\n",
    "for passband in np.arange(1, 6):\n",
    "    plt.errorbar(obj[training_df.passband == passband].mjd, obj[training_df.passband == passband].flux,\\\n",
    "                 yerr=obj[training_df.passband == passband].flux_err, fmt='o')\n",
    "plt.xlabel('Time (MJD)')\n",
    "plt.ylabel('Flux')\n",
    "plt.title('Object ID: %i' % obj_id)\n",
    "plt.show()"
   ]
  },
  {
   "cell_type": "markdown",
   "metadata": {},
   "source": [
    "We make a list of the possible different classes. Note that the classes are labeled by somewhat random numbers, but in the report we will refer to them simply as classes 1-14."
   ]
  },
  {
   "cell_type": "code",
   "execution_count": 4,
   "metadata": {},
   "outputs": [
    {
     "name": "stdout",
     "output_type": "stream",
     "text": [
      "[ 6 15 16 42 52 53 62 64 65 67 88 90 92 95]\n"
     ]
    }
   ],
   "source": [
    "targets = np.unique(training_metadata_df.target)\n",
    "print(targets)"
   ]
  },
  {
   "cell_type": "markdown",
   "metadata": {},
   "source": [
    "The following cells are for calculating the weighted logarithmic loss function which we will use to evaluate both the baseline and our machine learning algorithms. The $w$ variable holds the weights for each class based on its relative frequency."
   ]
  },
  {
   "cell_type": "code",
   "execution_count": 6,
   "metadata": {},
   "outputs": [
    {
     "name": "stdout",
     "output_type": "stream",
     "text": [
      "[ 6 15 16 42 52 53 62 64 65 67 88 90 92 95]\n",
      "[0.01924057 0.06307339 0.117737   0.15201325 0.02331804 0.00382263\n",
      " 0.06167176 0.01299694 0.125      0.02650357 0.04714577 0.29472477\n",
      " 0.03045362 0.02229867]\n"
     ]
    }
   ],
   "source": [
    "N = []\n",
    "for i in np.arange(len(targets)):\n",
    "    N += [len(training_metadata_df.loc[training_metadata_df.target == targets[i]])]\n",
    "w = N/np.sum(N)\n",
    "print(targets)\n",
    "print(w)"
   ]
  },
  {
   "cell_type": "code",
   "execution_count": 7,
   "metadata": {},
   "outputs": [],
   "source": [
    "def LogLoss(y_true, y_pred):\n",
    "    y_clip = np.clip(y_pred, 1e-15, 1-1e-15)\n",
    "    loss = -(np.mean(np.mean(y_true*np.log(y_clip), axis=0)/w))\n",
    "    return loss"
   ]
  },
  {
   "cell_type": "markdown",
   "metadata": {},
   "source": [
    "# Random selection baseline"
   ]
  },
  {
   "cell_type": "markdown",
   "metadata": {},
   "source": [
    "The first baseline that we try involves just randomly selecting one of the 14 classes for each object. This should have an accuracy of $\\sim \\frac{1}{14}$. Obviously this will not be a very good classifier, but it will give us a sense of how much improvement we get when we begin using machine learning algorithms."
   ]
  },
  {
   "cell_type": "code",
   "execution_count": 8,
   "metadata": {},
   "outputs": [
    {
     "name": "stdout",
     "output_type": "stream",
     "text": [
      "*** Random Prediction Baseline ***\n",
      "Log Loss = 32.318\n",
      "Accuracy = 0.0701\n"
     ]
    }
   ],
   "source": [
    "rand_pred = np.random.choice(targets, size=len(training_metadata_df))\n",
    "y_pred_rand = np.zeros((len(training_metadata_df), len(targets)))\n",
    "y_true_train = np.zeros((len(training_metadata_df), len(targets)))\n",
    "for i in np.arange(len(rand_pred)):\n",
    "    y_pred_rand[i, np.where(targets == rand_pred[i])] = 1\n",
    "    y_true_train[i, np.where(targets == training_metadata_df.target.values[i])] = 1\n",
    "loss_rand = LogLoss(y_true_train, y_pred_rand)\n",
    "acc_rand = np.sum(training_metadata_df['target'] == rand_pred)/len(rand_pred)\n",
    "print('*** Random Prediction Baseline ***')\n",
    "print('Log Loss = %.3f' % loss_rand)\n",
    "print('Accuracy = %.4f' % acc_rand)"
   ]
  },
  {
   "cell_type": "markdown",
   "metadata": {},
   "source": [
    "# Galactic/Extragalactic baseline"
   ]
  },
  {
   "cell_type": "markdown",
   "metadata": {},
   "source": [
    "This is a slightly more sophisticated baseline which can be modeled as a single layer decision tree which splits based on whether an object is galactic or extragalactic. We can do this because for a given object classification, all of the members of that class are either galactic (redshift [i.e. 'hostgal_photoz'] = 0), or extragalactic (redshift > 0). This is shown in the cells below."
   ]
  },
  {
   "cell_type": "code",
   "execution_count": 9,
   "metadata": {},
   "outputs": [],
   "source": [
    "galactic_cut = training_metadata_df['hostgal_photoz'] == 0\n",
    "galactic_objs = training_metadata_df[galactic_cut]\n",
    "extragalactic_objs = training_metadata_df[~galactic_cut]"
   ]
  },
  {
   "cell_type": "code",
   "execution_count": 10,
   "metadata": {
    "scrolled": true
   },
   "outputs": [
    {
     "name": "stdout",
     "output_type": "stream",
     "text": [
      "class = 6\n",
      "Galactic fraction = 1.0000\n",
      "Extragalactic fraction = 0.0000\n",
      "\n",
      "class = 15\n",
      "Galactic fraction = 0.0000\n",
      "Extragalactic fraction = 1.0000\n",
      "\n",
      "class = 16\n",
      "Galactic fraction = 1.0000\n",
      "Extragalactic fraction = 0.0000\n",
      "\n",
      "class = 42\n",
      "Galactic fraction = 0.0000\n",
      "Extragalactic fraction = 1.0000\n",
      "\n",
      "class = 52\n",
      "Galactic fraction = 0.0000\n",
      "Extragalactic fraction = 1.0000\n",
      "\n",
      "class = 53\n",
      "Galactic fraction = 1.0000\n",
      "Extragalactic fraction = 0.0000\n",
      "\n",
      "class = 62\n",
      "Galactic fraction = 0.0000\n",
      "Extragalactic fraction = 1.0000\n",
      "\n",
      "class = 64\n",
      "Galactic fraction = 0.0000\n",
      "Extragalactic fraction = 1.0000\n",
      "\n",
      "class = 65\n",
      "Galactic fraction = 1.0000\n",
      "Extragalactic fraction = 0.0000\n",
      "\n",
      "class = 67\n",
      "Galactic fraction = 0.0000\n",
      "Extragalactic fraction = 1.0000\n",
      "\n",
      "class = 88\n",
      "Galactic fraction = 0.0000\n",
      "Extragalactic fraction = 1.0000\n",
      "\n",
      "class = 90\n",
      "Galactic fraction = 0.0000\n",
      "Extragalactic fraction = 1.0000\n",
      "\n",
      "class = 92\n",
      "Galactic fraction = 1.0000\n",
      "Extragalactic fraction = 0.0000\n",
      "\n",
      "class = 95\n",
      "Galactic fraction = 0.0000\n",
      "Extragalactic fraction = 1.0000\n",
      "\n"
     ]
    }
   ],
   "source": [
    "for target in targets:\n",
    "    galactic_frac = np.sum(galactic_objs['target'] == target)/np.sum(training_metadata_df['target'] == target)\n",
    "    extragalactic_frac = np.sum(extragalactic_objs['target'] == target)/np.sum(training_metadata_df['target'] == target)\n",
    "    print('class = %s' % target)\n",
    "    print('Galactic fraction = %.4f' % galactic_frac)\n",
    "    print('Extragalactic fraction = %.4f\\n' % extragalactic_frac)"
   ]
  },
  {
   "cell_type": "code",
   "execution_count": 11,
   "metadata": {},
   "outputs": [],
   "source": [
    "galactic_targets = np.array([6, 16, 53, 65, 92])\n",
    "extragalactic_targets = np.array([15, 42, 52, 62, 64, 67, 88, 90, 95])"
   ]
  },
  {
   "cell_type": "code",
   "execution_count": 12,
   "metadata": {},
   "outputs": [
    {
     "name": "stdout",
     "output_type": "stream",
     "text": [
      "*** Galactic/Extragalactic Baseline ***\n",
      "Log Loss = 29.517\n",
      "Accuracy = 0.1370\n"
     ]
    }
   ],
   "source": [
    "pred_gal = []\n",
    "y_pred_gal = np.zeros((len(training_metadata_df), len(targets)))\n",
    "for i in np.arange(len(training_metadata_df)):\n",
    "    if training_metadata_df.hostgal_photoz.values[i] == 0:\n",
    "        pred_gal += [np.random.choice(galactic_targets)]\n",
    "    else:\n",
    "        pred_gal += [np.random.choice(extragalactic_targets)]\n",
    "    y_pred_gal[i, np.where(targets == pred_gal[i])] = 1\n",
    "loss_gal = LogLoss(y_true_train, y_pred_gal)\n",
    "acc_gal = np.sum(training_metadata_df['target'] == pred_gal)/len(pred_gal)\n",
    "print('*** Galactic/Extragalactic Baseline ***')\n",
    "print('Log Loss = %.3f' % loss_gal)\n",
    "print('Accuracy = %.4f' % acc_gal)"
   ]
  },
  {
   "cell_type": "markdown",
   "metadata": {},
   "source": [
    "Using the galactic/extragalactic baseline shows a slight improvement relative to the purely random baseline. We hope to improve both the loss and accuracy of the calssification with machine learning."
   ]
  }
 ],
 "metadata": {
  "kernelspec": {
   "display_name": "Python 3",
   "language": "python",
   "name": "python3"
  },
  "language_info": {
   "codemirror_mode": {
    "name": "ipython",
    "version": 3
   },
   "file_extension": ".py",
   "mimetype": "text/x-python",
   "name": "python",
   "nbconvert_exporter": "python",
   "pygments_lexer": "ipython3",
   "version": "3.6.7"
  }
 },
 "nbformat": 4,
 "nbformat_minor": 2
}
