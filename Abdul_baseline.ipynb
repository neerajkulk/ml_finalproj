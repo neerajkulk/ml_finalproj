{
 "cells": [
  {
   "cell_type": "code",
   "execution_count": 1,
   "metadata": {},
   "outputs": [],
   "source": [
    "import numpy as np\n",
    "import pandas as pd\n",
    "from sklearn.svm import LinearSVC\n",
    "from sklearn.multiclass import OneVsOneClassifier"
   ]
  },
  {
   "cell_type": "code",
   "execution_count": 2,
   "metadata": {},
   "outputs": [],
   "source": [
    "# Load training set\n",
    "dataframes_training = pd.read_csv('data/training_set_metadata.csv')\n",
    "y = dataframes_training.target.values\n",
    "# Extract columns from the training set so that they match the columns from test set below\n",
    "X = np.nan_to_num(dataframes_training.iloc[:,[0,1,2,5,6,7,8,9,10]])\n",
    "\n",
    "# Load test set (limited to half a million rows as a baseline)\n",
    "dataframes_test = pd.read_csv('data/plasticc_test_metadata.csv')\n",
    "X_test = np.nan_to_num(dataframes_test.iloc[:500000,:9])\n",
    "y_test = dataframes_test.iloc[:500000,[10]].values"
   ]
  },
  {
   "cell_type": "code",
   "execution_count": null,
   "metadata": {},
   "outputs": [],
   "source": [
    "# Making sure that we extracted the correct columns \n",
    "\"\"\"dataframes2_test = pd.read_csv('data/test_set_metadata.csv')\n",
    "X_test2 = np.nan_to_num(dataframes2_test.iloc[:3,[0,1,2,5,6,7,8,9,10]])\n",
    "for i in range(9):\n",
    "    print(X_test[0,i])\n",
    "    print(X_test2[0,i])\"\"\""
   ]
  },
  {
   "cell_type": "code",
   "execution_count": null,
   "metadata": {},
   "outputs": [],
   "source": [
    "# Running a SVC classifier using crammer_singer stratigy for multi class classification. \n",
    "# NOT recommended according to scikit-learn documentation\n",
    "\n",
    "SVC_CS = LinearSVC(multi_class=\"crammer_singer\")\n",
    "Predictions_SVC_CS = SVC_CS.fit(X, y).predict(X_test)\n",
    "\n",
    "print(\"The original classes in the test set are\", np.unique(y_test), \"\\n\")\n",
    "print(\"The predicted classes are\", np.unique(Predictions_SVC_CS), \"\\n\")\n",
    "print(\"Missing the following classes in the prediction\", np.setdiff1d(np.unique(y_test),np.unique(Predictions_SVC_CS)), \"\\n\")\n",
    "print(\"The accuracy for Linear SVC Crammer Singer classifier is \" + \"{:.2%}\".format(SVC_CS.score(X_test, y_test)))"
   ]
  },
  {
   "cell_type": "code",
   "execution_count": 19,
   "metadata": {},
   "outputs": [
    {
     "name": "stderr",
     "output_type": "stream",
     "text": [
      "/opt/conda/lib/python3.6/site-packages/sklearn/svm/base.py:931: ConvergenceWarning: Liblinear failed to converge, increase the number of iterations.\n",
      "  \"the number of iterations.\", ConvergenceWarning)\n"
     ]
    },
    {
     "name": "stdout",
     "output_type": "stream",
     "text": [
      "The original classes in the test set are [  6  15  16  42  52  53  62  64  65  67  88  90  92  95 991 992 993 994] \n",
      "\n",
      "The predicted classes are [ 6 16 42 65 90 92] \n",
      "\n",
      "Missing the following classes in the prediction [ 15  52  53  62  64  67  88  95 991 992 993 994] \n",
      "\n",
      "The accuracy for Linear SVC One-Vs-Rest classifier is 37.34%\n"
     ]
    }
   ],
   "source": [
    "# Running a SVC classifier using One-Vs-Rest stratigy for multi class classification.\n",
    "SVC_OVR = LinearSVC(multi_class=\"ovr\")\n",
    "Predictions_SVC_OVR = SVC_OVR.fit(X,y).predict(X_test)\n",
    "\n",
    "print(\"The original classes in the test set are\", np.unique(y_test), \"\\n\")\n",
    "print(\"The predicted classes are\", np.unique(Predictions_SVC_OVR), \"\\n\")\n",
    "print(\"Missing the following classes in the prediction\", np.setdiff1d(np.unique(y_test),np.unique(Predictions_SVC_OVR)), \"\\n\")\n",
    "print(\"The accuracy for Linear SVC One-Vs-Rest classifier is \" + \"{:.2%}\".format(SVC_OVR.score(X_test, y_test)))"
   ]
  },
  {
   "cell_type": "code",
   "execution_count": 3,
   "metadata": {},
   "outputs": [
    {
     "name": "stdout",
     "output_type": "stream",
     "text": [
      "The original classes in the test set are [  6  15  16  42  52  53  62  64  65  67  88  90  92  95 991 992 993 994] \n",
      "\n",
      "The predicted classes are [16 42 64 65 88 90 92] \n",
      "\n",
      "Missing the following classes in the prediction [  6  15  52  53  62  67  95 991 992 993 994] \n",
      "\n",
      "The accuracy for Linear SVC One-Vs-One classifier is 52.27%\n"
     ]
    }
   ],
   "source": [
    "# Running a OneVsOneClassifier classifier using LinearSVC as the estimator.\n",
    "SVC_OVO = OneVsOneClassifier(LinearSVC(random_state=0), -1)\n",
    "Predictions_SVC_OVO = SVC_OVO.fit(X,y).predict(X_test)\n",
    "\n",
    "print(\"The original classes in the test set are\", np.unique(y_test), \"\\n\")\n",
    "print(\"The predicted classes are\", np.unique(Predictions_SVC_OVO), \"\\n\")\n",
    "print(\"Missing the following classes in the prediction\", np.setdiff1d(np.unique(y_test),np.unique(Predictions_SVC_OVO)), \"\\n\")\n",
    "print(\"The accuracy for Linear SVC One-Vs-One classifier is \" + \"{:.2%}\".format(SVC_OVO.score(X_test, y_test)))"
   ]
  }
 ],
 "metadata": {
  "kernelspec": {
   "display_name": "Python 3",
   "language": "python",
   "name": "python3"
  },
  "language_info": {
   "codemirror_mode": {
    "name": "ipython",
    "version": 3
   },
   "file_extension": ".py",
   "mimetype": "text/x-python",
   "name": "python",
   "nbconvert_exporter": "python",
   "pygments_lexer": "ipython3",
   "version": "3.6.7"
  }
 },
 "nbformat": 4,
 "nbformat_minor": 2
}
