{
 "cells": [
  {
   "cell_type": "code",
   "execution_count": 100,
   "metadata": {},
   "outputs": [],
   "source": [
    "import numpy as np\n",
    "import pandas as pd"
   ]
  },
  {
   "cell_type": "code",
   "execution_count": 101,
   "metadata": {},
   "outputs": [],
   "source": [
    "dataframes = pd.read_csv('data/training_set_metadata.csv')\n",
    "y = dataframes.target.values\n",
    "X = np.nan_to_num(dataframes.iloc[:,:11].values)\n",
    "X_test = np.nan_to_num(pd.read_csv('data/test_set_metadata.csv').values)"
   ]
  },
  {
   "cell_type": "code",
   "execution_count": 102,
   "metadata": {},
   "outputs": [
    {
     "name": "stdout",
     "output_type": "stream",
     "text": [
      "[ 6 15 16 42 52 53 62 64 65 67 88 90 92 95]\n",
      "\n",
      "[[ 1.30000000e+01  3.44531250e+01 -5.22952900e+00  1.69987075e+02\n",
      "  -5.99561850e+01  1.00000000e+00  3.04800000e-01  3.19300000e-01\n",
      "   5.42000000e-02  4.11123000e+01  1.90000000e-02]\n",
      " [ 1.40000000e+01  3.33984380e+01 -4.33114900e+00  1.67226341e+02\n",
      "  -5.99365510e+01  1.00000000e+00  0.00000000e+00  6.32300000e-01\n",
      "   1.79000000e-02  4.28774000e+01  1.80000000e-02]\n",
      " [ 1.70000000e+01  3.48529419e+02 -6.17554400e+01  3.21293980e+02\n",
      "  -5.17633510e+01  1.00000000e+00  0.00000000e+00  8.29700000e-01\n",
      "   6.05000000e-02  4.36000000e+01  1.60000000e-02]\n",
      " [ 2.30000000e+01  3.48046880e+01 -5.82915300e+00  1.71307861e+02\n",
      "  -6.01744010e+01  1.00000000e+00  0.00000000e+00  6.53300000e-01\n",
      "   1.47900000e-01  4.29640000e+01  2.30000000e-02]\n",
      " [ 3.40000000e+01  3.51321442e+02 -6.41987460e+01  3.17458993e+02\n",
      "  -5.04299310e+01  1.00000000e+00  4.55700000e-01  4.61700000e-01\n",
      "   1.22000000e-02  4.20540000e+01  2.30000000e-02]\n",
      " [ 3.50000000e+01  3.53320310e+01 -5.97915700e+00  1.72286722e+02\n",
      "  -5.99317430e+01  1.00000000e+00  0.00000000e+00  8.38800000e-01\n",
      "   3.75000000e-02  4.36290000e+01  2.20000000e-02]\n",
      " [ 4.30000000e+01  5.74468000e-01 -4.59811400e+01  3.27041068e+02\n",
      "  -6.87787640e+01  1.00000000e+00  0.00000000e+00  6.66900000e-01\n",
      "   5.46000000e-02  4.30186000e+01  6.00000000e-03]\n",
      " [ 5.00000000e+01  5.74468000e-01 -4.59811400e+01  3.27041068e+02\n",
      "  -6.87787640e+01  1.00000000e+00  0.00000000e+00  1.46630000e+00\n",
      "   5.29000000e-02  4.51281000e+01  6.00000000e-03]\n",
      " [ 6.00000000e+01  3.46562500e+02 -6.34482840e+01  3.20824720e+02\n",
      "  -4.98669570e+01  1.00000000e+00  0.00000000e+00  9.46200000e-01\n",
      "   1.16000000e-02  4.39519000e+01  2.10000000e-02]\n",
      " [ 6.90000000e+01  3.49160583e+02 -6.47608570e+01  3.18219706e+02\n",
      "  -4.94589240e+01  1.00000000e+00  0.00000000e+00  1.04320000e+00\n",
      "   1.09200000e-01  4.42138000e+01  2.00000000e-02]]\n"
     ]
    }
   ],
   "source": [
    "### Printing the classes we have in the training dataset.\n",
    "print(np.unique(y))\n",
    "print()\n",
    "print(X_test[:10]) "
   ]
  },
  {
   "cell_type": "code",
   "execution_count": 103,
   "metadata": {},
   "outputs": [
    {
     "name": "stderr",
     "output_type": "stream",
     "text": [
      "/opt/conda/lib/python3.6/site-packages/sklearn/svm/base.py:931: ConvergenceWarning: Liblinear failed to converge, increase the number of iterations.\n",
      "  \"the number of iterations.\", ConvergenceWarning)\n"
     ]
    },
    {
     "name": "stdout",
     "output_type": "stream",
     "text": [
      "[16 42 64 65 88 90 92]\n"
     ]
    }
   ],
   "source": [
    "### Running a SVC classifier using crammer_singer stratigy for multi class classification. \n",
    "### NOT recommended according to scikit-learn documentation\n",
    "from sklearn.svm import LinearSVC\n",
    "\n",
    "Predictions_SVC_CS = LinearSVC(multi_class=\"crammer_singer\").fit(X, y).predict(X_test)\n",
    "print(np.unique(Predictions_SVC_CS))"
   ]
  },
  {
   "cell_type": "code",
   "execution_count": 98,
   "metadata": {},
   "outputs": [
    {
     "name": "stderr",
     "output_type": "stream",
     "text": [
      "/opt/conda/lib/python3.6/site-packages/sklearn/svm/base.py:931: ConvergenceWarning: Liblinear failed to converge, increase the number of iterations.\n",
      "  \"the number of iterations.\", ConvergenceWarning)\n"
     ]
    },
    {
     "name": "stdout",
     "output_type": "stream",
     "text": [
      "[42 65 90 92]\n"
     ]
    }
   ],
   "source": [
    "### Running a SVC classifier using One_VS_Rest stratigy for multi class classification. \n",
    "\n",
    "#from sklearn.multiclass import OneVsRestClassifier\n",
    "#PredictionsOVR = OneVsRestClassifier(LinearSVC(random_state=0), -1).fit(X, y).predict(X_test) \n",
    "#print(np.unique(PredictionOVO))\n",
    "\n",
    "Predictions_SVC_OVR = LinearSVC(multi_class=\"ovr\").fit(X, y).predict(X_test)\n",
    "print(np.unique(Predictions_SVC_OVR))"
   ]
  },
  {
   "cell_type": "code",
   "execution_count": 3,
   "metadata": {},
   "outputs": [],
   "source": [
    "unique_objects = np.unique(df.object_id)"
   ]
  },
  {
   "cell_type": "code",
   "execution_count": 99,
   "metadata": {},
   "outputs": [
    {
     "name": "stdout",
     "output_type": "stream",
     "text": [
      "[16 42 65 67 88 90 92]\n"
     ]
    }
   ],
   "source": [
    "### Running a OneVsOneClassifier classifier using LinearSVC as the estimator.\n",
    "from sklearn.multiclass import OneVsOneClassifier\n",
    "\n",
    "X_test = X_test[0:500000,:] ### Doesn't work with the whole test set. TODO: Figure out why!\n",
    "PredictionOVO = OneVsOneClassifier(LinearSVC(random_state=0), -1).fit(X, y).predict(X_test) \n",
    "print(np.unique(PredictionOVO))"
   ]
  },
  {
   "cell_type": "code",
   "execution_count": null,
   "metadata": {},
   "outputs": [],
   "source": []
  }
 ],
 "metadata": {
  "kernelspec": {
   "display_name": "Python 3",
   "language": "python",
   "name": "python3"
  },
  "language_info": {
   "codemirror_mode": {
    "name": "ipython",
    "version": 3
   },
   "file_extension": ".py",
   "mimetype": "text/x-python",
   "name": "python",
   "nbconvert_exporter": "python",
   "pygments_lexer": "ipython3",
   "version": "3.6.7"
  }
 },
 "nbformat": 4,
 "nbformat_minor": 2
}
